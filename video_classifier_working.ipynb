{
 "cells": [
  {
   "cell_type": "markdown",
   "id": "64a42a09",
   "metadata": {},
   "source": [
    "# Video Classifier Using CNN and RNN\n",
    "# !dir"
   ]
  },
  {
   "cell_type": "code",
   "execution_count": 1,
   "id": "59b4b70e",
   "metadata": {},
   "outputs": [
    {
     "name": "stdout",
     "output_type": "stream",
     "text": [
      "['fallen', 'not_fallen']\n"
     ]
    }
   ],
   "source": [
    "import numpy as np \n",
    "import pandas as pd \n",
    "import matplotlib.pyplot as plt\n",
    "import os\n",
    "\n",
    "dataset_path = os.listdir('dataset/train')\n",
    "\n",
    "label_types = os.listdir('dataset/train')\n",
    "print (label_types)  "
   ]
  },
  {
   "cell_type": "markdown",
   "id": "935f06c4",
   "metadata": {},
   "source": [
    "# Preparing Training Data"
   ]
  },
  {
   "cell_type": "code",
   "execution_count": 2,
   "id": "d7e00542",
   "metadata": {},
   "outputs": [
    {
     "name": "stdout",
     "output_type": "stream",
     "text": [
      "      tag                          video_name\n",
      "0  fallen   dataset/train/fallen/fall (1).mp4\n",
      "1  fallen  dataset/train/fallen/fall (10).mp4\n",
      "2  fallen  dataset/train/fallen/fall (11).mp4\n",
      "3  fallen  dataset/train/fallen/fall (12).mp4\n",
      "4  fallen  dataset/train/fallen/fall (13).mp4\n",
      "           tag                                video_name\n",
      "65  not_fallen  dataset/train/not_fallen/notfall (5).mp4\n",
      "66  not_fallen  dataset/train/not_fallen/notfall (6).mp4\n",
      "67  not_fallen  dataset/train/not_fallen/notfall (7).mp4\n",
      "68  not_fallen  dataset/train/not_fallen/notfall (8).mp4\n",
      "69  not_fallen  dataset/train/not_fallen/notfall (9).mp4\n"
     ]
    }
   ],
   "source": [
    "# creating the dataframe\n",
    "\n",
    "rooms = []\n",
    "\n",
    "for item in dataset_path:\n",
    " # Get all the file names\n",
    " all_rooms = os.listdir('dataset/train' + '/' +item)\n",
    "\n",
    " # Add them to the list\n",
    " for room in all_rooms:\n",
    "    rooms.append((item, str('dataset/train' + '/' +item) + '/' + room))\n",
    "    \n",
    "# Build a dataframe        \n",
    "train_df = pd.DataFrame(data=rooms, columns=['tag', 'video_name'])\n",
    "print(train_df.head())\n",
    "print(train_df.tail())\n"
   ]
  },
  {
   "cell_type": "code",
   "execution_count": 7,
   "id": "27ac79ad",
   "metadata": {},
   "outputs": [
    {
     "ename": "NameError",
     "evalue": "name 'train_df' is not defined",
     "output_type": "error",
     "traceback": [
      "\u001b[1;31m---------------------------------------------------------------------------\u001b[0m",
      "\u001b[1;31mNameError\u001b[0m                                 Traceback (most recent call last)",
      "\u001b[1;32m<ipython-input-7-712fde486526>\u001b[0m in \u001b[0;36m<module>\u001b[1;34m\u001b[0m\n\u001b[1;32m----> 1\u001b[1;33m \u001b[0mdf\u001b[0m \u001b[1;33m=\u001b[0m \u001b[0mtrain_df\u001b[0m\u001b[1;33m.\u001b[0m\u001b[0mloc\u001b[0m\u001b[1;33m[\u001b[0m\u001b[1;33m:\u001b[0m\u001b[1;33m,\u001b[0m\u001b[1;33m[\u001b[0m\u001b[1;34m'video_name'\u001b[0m\u001b[1;33m,\u001b[0m\u001b[1;34m'tag'\u001b[0m\u001b[1;33m]\u001b[0m\u001b[1;33m]\u001b[0m\u001b[1;33m\u001b[0m\u001b[1;33m\u001b[0m\u001b[0m\n\u001b[0m\u001b[0;32m      2\u001b[0m \u001b[0mdf\u001b[0m\u001b[1;33m\u001b[0m\u001b[1;33m\u001b[0m\u001b[0m\n\u001b[0;32m      3\u001b[0m \u001b[0mdf\u001b[0m\u001b[1;33m.\u001b[0m\u001b[0mto_csv\u001b[0m\u001b[1;33m(\u001b[0m\u001b[1;34m'train.csv'\u001b[0m\u001b[1;33m)\u001b[0m\u001b[1;33m\u001b[0m\u001b[1;33m\u001b[0m\u001b[0m\n",
      "\u001b[1;31mNameError\u001b[0m: name 'train_df' is not defined"
     ]
    }
   ],
   "source": [
    "df = train_df.loc[:,['video_name','tag']]\n",
    "df\n",
    "df.to_csv('train.csv')"
   ]
  },
  {
   "cell_type": "markdown",
   "id": "ee0897c2",
   "metadata": {},
   "source": [
    "# Preparing Test Data"
   ]
  },
  {
   "cell_type": "code",
   "execution_count": 8,
   "id": "413b31f2",
   "metadata": {},
   "outputs": [
    {
     "name": "stdout",
     "output_type": "stream",
     "text": [
      "['fallen', 'not_fallen']\n",
      "Types of activities found:  2\n",
      "      tag                         video_name\n",
      "0  fallen  dataset/test/fallen/fall (26).mp4\n",
      "1  fallen  dataset/test/fallen/fall (27).mp4\n",
      "2  fallen  dataset/test/fallen/fall (28).mp4\n",
      "3  fallen  dataset/test/fallen/fall (29).mp4\n",
      "4  fallen  dataset/test/fallen/fall (30).mp4\n",
      "          tag                                video_name\n",
      "5  not_fallen  dataset/test/not_fallen/notfall (36).mp4\n",
      "6  not_fallen  dataset/test/not_fallen/notfall (37).mp4\n",
      "7  not_fallen  dataset/test/not_fallen/notfall (38).mp4\n",
      "8  not_fallen  dataset/test/not_fallen/notfall (39).mp4\n",
      "9  not_fallen  dataset/test/not_fallen/notfall (40).mp4\n"
     ]
    }
   ],
   "source": [
    "dataset_path = os.listdir('dataset/test')\n",
    "print(dataset_path)\n",
    "\n",
    "room_types = os.listdir('dataset/test')\n",
    "print(\"Types of activities found: \", len(dataset_path))\n",
    "\n",
    "rooms = []\n",
    "\n",
    "for item in dataset_path:\n",
    " # Get all the file names\n",
    " all_rooms = os.listdir('dataset/test' + '/' +item)\n",
    "\n",
    " # Add them to the list\n",
    " for room in all_rooms:\n",
    "    rooms.append((item, str('dataset/test' + '/' +item) + '/' + room))\n",
    "    \n",
    "# Build a dataframe        \n",
    "test_df = pd.DataFrame(data=rooms, columns=['tag', 'video_name'])\n",
    "print(test_df.head())\n",
    "print(test_df.tail())\n",
    "\n",
    "df = test_df.loc[:,['video_name','tag']]\n",
    "df\n",
    "df.to_csv('test.csv')"
   ]
  },
  {
   "cell_type": "code",
   "execution_count": 9,
   "id": "c45fb7c1",
   "metadata": {},
   "outputs": [],
   "source": [
    "#pip install git+https://github.com/tensorflow/docs"
   ]
  },
  {
   "cell_type": "code",
   "execution_count": 10,
   "id": "e712f8a4",
   "metadata": {},
   "outputs": [],
   "source": [
    "#pip install --upgrade imutils"
   ]
  },
  {
   "cell_type": "code",
   "execution_count": 17,
   "id": "b1e2b78a",
   "metadata": {},
   "outputs": [],
   "source": [
    "#pip install opencv-python"
   ]
  },
  {
   "cell_type": "code",
   "execution_count": 18,
   "id": "918d9338",
   "metadata": {},
   "outputs": [],
   "source": [
    "from tensorflow_docs.vis import embed\n",
    "from tensorflow import keras\n",
    "from imutils import paths\n",
    "\n",
    "import matplotlib.pyplot as plt\n",
    "import tensorflow as tf\n",
    "import pandas as pd\n",
    "import numpy as np\n",
    "import imageio\n",
    "import cv2\n",
    "import os"
   ]
  },
  {
   "cell_type": "code",
   "execution_count": 19,
   "id": "f4fed40c",
   "metadata": {},
   "outputs": [],
   "source": [
    "gpus = tf.config.experimental.list_physical_devices('GPU')\n",
    "if gpus:\n",
    "  try:\n",
    "    tf.config.experimental.set_virtual_device_configuration(\n",
    "        gpus[0],[tf.config.experimental.VirtualDeviceConfiguration(memory_limit=5120)])\n",
    "  except RuntimeError as e:\n",
    "    print(e)"
   ]
  },
  {
   "cell_type": "markdown",
   "id": "2bdf44bb",
   "metadata": {},
   "source": [
    "# Data preparation"
   ]
  },
  {
   "cell_type": "code",
   "execution_count": 20,
   "id": "8b716cfb",
   "metadata": {},
   "outputs": [
    {
     "name": "stdout",
     "output_type": "stream",
     "text": [
      "Total videos for training: 70\n",
      "Total videos for testing: 10\n"
     ]
    },
    {
     "data": {
      "text/html": [
       "<div>\n",
       "<style scoped>\n",
       "    .dataframe tbody tr th:only-of-type {\n",
       "        vertical-align: middle;\n",
       "    }\n",
       "\n",
       "    .dataframe tbody tr th {\n",
       "        vertical-align: top;\n",
       "    }\n",
       "\n",
       "    .dataframe thead th {\n",
       "        text-align: right;\n",
       "    }\n",
       "</style>\n",
       "<table border=\"1\" class=\"dataframe\">\n",
       "  <thead>\n",
       "    <tr style=\"text-align: right;\">\n",
       "      <th></th>\n",
       "      <th>Unnamed: 0</th>\n",
       "      <th>video_name</th>\n",
       "      <th>tag</th>\n",
       "    </tr>\n",
       "  </thead>\n",
       "  <tbody>\n",
       "    <tr>\n",
       "      <th>52</th>\n",
       "      <td>52</td>\n",
       "      <td>dataset/train/not_fallen/notfall (3).mp4</td>\n",
       "      <td>not_fallen</td>\n",
       "    </tr>\n",
       "    <tr>\n",
       "      <th>12</th>\n",
       "      <td>12</td>\n",
       "      <td>dataset/train/fallen/fall (20).mp4</td>\n",
       "      <td>fallen</td>\n",
       "    </tr>\n",
       "    <tr>\n",
       "      <th>42</th>\n",
       "      <td>42</td>\n",
       "      <td>dataset/train/not_fallen/notfall (20).mp4</td>\n",
       "      <td>not_fallen</td>\n",
       "    </tr>\n",
       "    <tr>\n",
       "      <th>45</th>\n",
       "      <td>45</td>\n",
       "      <td>dataset/train/not_fallen/notfall (23).mp4</td>\n",
       "      <td>not_fallen</td>\n",
       "    </tr>\n",
       "    <tr>\n",
       "      <th>19</th>\n",
       "      <td>19</td>\n",
       "      <td>dataset/train/fallen/fall (27).mp4</td>\n",
       "      <td>fallen</td>\n",
       "    </tr>\n",
       "    <tr>\n",
       "      <th>46</th>\n",
       "      <td>46</td>\n",
       "      <td>dataset/train/not_fallen/notfall (24).mp4</td>\n",
       "      <td>not_fallen</td>\n",
       "    </tr>\n",
       "    <tr>\n",
       "      <th>15</th>\n",
       "      <td>15</td>\n",
       "      <td>dataset/train/fallen/fall (23).mp4</td>\n",
       "      <td>fallen</td>\n",
       "    </tr>\n",
       "    <tr>\n",
       "      <th>59</th>\n",
       "      <td>59</td>\n",
       "      <td>dataset/train/not_fallen/notfall (36).mp4</td>\n",
       "      <td>not_fallen</td>\n",
       "    </tr>\n",
       "    <tr>\n",
       "      <th>18</th>\n",
       "      <td>18</td>\n",
       "      <td>dataset/train/fallen/fall (26).mp4</td>\n",
       "      <td>fallen</td>\n",
       "    </tr>\n",
       "    <tr>\n",
       "      <th>50</th>\n",
       "      <td>50</td>\n",
       "      <td>dataset/train/not_fallen/notfall (28).mp4</td>\n",
       "      <td>not_fallen</td>\n",
       "    </tr>\n",
       "  </tbody>\n",
       "</table>\n",
       "</div>"
      ],
      "text/plain": [
       "    Unnamed: 0                                 video_name         tag\n",
       "52          52   dataset/train/not_fallen/notfall (3).mp4  not_fallen\n",
       "12          12         dataset/train/fallen/fall (20).mp4      fallen\n",
       "42          42  dataset/train/not_fallen/notfall (20).mp4  not_fallen\n",
       "45          45  dataset/train/not_fallen/notfall (23).mp4  not_fallen\n",
       "19          19         dataset/train/fallen/fall (27).mp4      fallen\n",
       "46          46  dataset/train/not_fallen/notfall (24).mp4  not_fallen\n",
       "15          15         dataset/train/fallen/fall (23).mp4      fallen\n",
       "59          59  dataset/train/not_fallen/notfall (36).mp4  not_fallen\n",
       "18          18         dataset/train/fallen/fall (26).mp4      fallen\n",
       "50          50  dataset/train/not_fallen/notfall (28).mp4  not_fallen"
      ]
     },
     "execution_count": 20,
     "metadata": {},
     "output_type": "execute_result"
    }
   ],
   "source": [
    "train_df = pd.read_csv(\"train.csv\")\n",
    "test_df = pd.read_csv(\"test.csv\")\n",
    "\n",
    "print(f\"Total videos for training: {len(train_df)}\")\n",
    "print(f\"Total videos for testing: {len(test_df)}\")\n",
    "\n",
    "\n",
    "train_df.sample(10)"
   ]
  },
  {
   "cell_type": "markdown",
   "id": "b93c182a",
   "metadata": {},
   "source": [
    "# Feed the videos to a network:\n"
   ]
  },
  {
   "cell_type": "code",
   "execution_count": 21,
   "id": "fcd68b72",
   "metadata": {},
   "outputs": [],
   "source": [
    "# The following two methods are taken from this tutorial:\n",
    "# https://www.tensorflow.org/hub/tutorials/action_recognition_with_tf_hub\n",
    "IMG_SIZE = 224\n",
    "\n",
    "\n",
    "def crop_center_square(frame):\n",
    "    y, x = frame.shape[0:2]\n",
    "    min_dim = min(y, x)\n",
    "    start_x = (x // 2) - (min_dim // 2)\n",
    "    start_y = (y // 2) - (min_dim // 2)\n",
    "    return frame[start_y : start_y + min_dim, start_x : start_x + min_dim]\n",
    "\n",
    "\n",
    "def load_video(path, max_frames=0, resize=(IMG_SIZE, IMG_SIZE)):\n",
    "    cap = cv2.VideoCapture(path)\n",
    "    frames = []\n",
    "    try:\n",
    "        while True:\n",
    "            ret, frame = cap.read()\n",
    "            if not ret:\n",
    "                break\n",
    "#             frame = crop_center_square(frame)\n",
    "            frame = cv2.resize(frame, resize)\n",
    "            frame = frame[:, :, [2, 1, 0]]\n",
    "            frames.append(frame)\n",
    "\n",
    "            if len(frames) == max_frames:\n",
    "                break\n",
    "    finally:\n",
    "        cap.release()\n",
    "    return np.array(frames)"
   ]
  },
  {
   "cell_type": "markdown",
   "id": "c243c6ee",
   "metadata": {},
   "source": [
    "   ### Feature Extraction"
   ]
  },
  {
   "cell_type": "code",
   "execution_count": 22,
   "id": "388c0afe",
   "metadata": {},
   "outputs": [],
   "source": [
    "def build_feature_extractor():\n",
    "    feature_extractor = keras.applications.InceptionV3(\n",
    "        weights=\"imagenet\",\n",
    "        include_top=False,\n",
    "        pooling=\"avg\",\n",
    "        input_shape=(IMG_SIZE, IMG_SIZE, 3),\n",
    "    )\n",
    "    preprocess_input = keras.applications.inception_v3.preprocess_input\n",
    "\n",
    "    inputs = keras.Input((IMG_SIZE, IMG_SIZE, 3))\n",
    "    preprocessed = preprocess_input(inputs)\n",
    "\n",
    "    outputs = feature_extractor(preprocessed)\n",
    "    return keras.Model(inputs, outputs, name=\"feature_extractor\")\n",
    "\n",
    "\n",
    "feature_extractor = build_feature_extractor()"
   ]
  },
  {
   "cell_type": "markdown",
   "id": "877ca626",
   "metadata": {},
   "source": [
    "### Label Encoding\n",
    "StringLookup layer encode the class labels as integers."
   ]
  },
  {
   "cell_type": "code",
   "execution_count": 23,
   "id": "d72ed1c3",
   "metadata": {},
   "outputs": [],
   "source": [
    "# pip install dash==1.20.0 "
   ]
  },
  {
   "cell_type": "code",
   "execution_count": 24,
   "id": "6bf74cdf",
   "metadata": {},
   "outputs": [],
   "source": [
    "# ! pip install tensorflow --upgrade --user\n"
   ]
  },
  {
   "cell_type": "code",
   "execution_count": 25,
   "id": "801339d8",
   "metadata": {},
   "outputs": [
    {
     "name": "stdout",
     "output_type": "stream",
     "text": [
      "['fallen', 'not_fallen']\n"
     ]
    },
    {
     "data": {
      "text/plain": [
       "array([[0],\n",
       "       [0],\n",
       "       [0],\n",
       "       [0],\n",
       "       [0],\n",
       "       [0],\n",
       "       [0],\n",
       "       [0],\n",
       "       [0],\n",
       "       [0],\n",
       "       [0],\n",
       "       [0],\n",
       "       [0],\n",
       "       [0],\n",
       "       [0],\n",
       "       [0],\n",
       "       [0],\n",
       "       [0],\n",
       "       [0],\n",
       "       [0],\n",
       "       [0],\n",
       "       [0],\n",
       "       [0],\n",
       "       [0],\n",
       "       [0],\n",
       "       [0],\n",
       "       [0],\n",
       "       [0],\n",
       "       [0],\n",
       "       [0],\n",
       "       [1],\n",
       "       [1],\n",
       "       [1],\n",
       "       [1],\n",
       "       [1],\n",
       "       [1],\n",
       "       [1],\n",
       "       [1],\n",
       "       [1],\n",
       "       [1],\n",
       "       [1],\n",
       "       [1],\n",
       "       [1],\n",
       "       [1],\n",
       "       [1],\n",
       "       [1],\n",
       "       [1],\n",
       "       [1],\n",
       "       [1],\n",
       "       [1],\n",
       "       [1],\n",
       "       [1],\n",
       "       [1],\n",
       "       [1],\n",
       "       [1],\n",
       "       [1],\n",
       "       [1],\n",
       "       [1],\n",
       "       [1],\n",
       "       [1],\n",
       "       [1],\n",
       "       [1],\n",
       "       [1],\n",
       "       [1],\n",
       "       [1],\n",
       "       [1],\n",
       "       [1],\n",
       "       [1],\n",
       "       [1],\n",
       "       [1]], dtype=int64)"
      ]
     },
     "execution_count": 25,
     "metadata": {},
     "output_type": "execute_result"
    }
   ],
   "source": [
    "label_processor = keras.layers.StringLookup(num_oov_indices=0, vocabulary=np.unique(train_df[\"tag\"]))\n",
    "print(label_processor.get_vocabulary())\n",
    "\n",
    "labels = train_df[\"tag\"].values\n",
    "labels = label_processor(labels[..., None]).numpy()\n",
    "labels"
   ]
  },
  {
   "cell_type": "markdown",
   "id": "fde4ac85",
   "metadata": {},
   "source": [
    "Finally, we can put all the pieces together to create our data processing utility."
   ]
  },
  {
   "cell_type": "code",
   "execution_count": 26,
   "id": "18db18a3",
   "metadata": {},
   "outputs": [
    {
     "ename": "NameError",
     "evalue": "name 'train_data' is not defined",
     "output_type": "error",
     "traceback": [
      "\u001b[1;31m---------------------------------------------------------------------------\u001b[0m",
      "\u001b[1;31mNameError\u001b[0m                                 Traceback (most recent call last)",
      "\u001b[1;32m<ipython-input-26-3d0b865da58e>\u001b[0m in \u001b[0;36m<module>\u001b[1;34m\u001b[0m\n\u001b[1;32m----> 1\u001b[1;33m \u001b[0mprint\u001b[0m\u001b[1;33m(\u001b[0m\u001b[0mtrain_data\u001b[0m\u001b[1;33m[\u001b[0m\u001b[1;36m0\u001b[0m\u001b[1;33m]\u001b[0m\u001b[1;33m.\u001b[0m\u001b[0mshape\u001b[0m\u001b[1;33m)\u001b[0m\u001b[1;33m\u001b[0m\u001b[1;33m\u001b[0m\u001b[0m\n\u001b[0m\u001b[0;32m      2\u001b[0m \u001b[0mtrain_data\u001b[0m\u001b[1;33m[\u001b[0m\u001b[1;36m0\u001b[0m\u001b[1;33m]\u001b[0m\u001b[1;33m\u001b[0m\u001b[1;33m\u001b[0m\u001b[0m\n",
      "\u001b[1;31mNameError\u001b[0m: name 'train_data' is not defined"
     ]
    }
   ],
   "source": [
    "# print(train_data[0].shape)\n",
    "# train_data[0]"
   ]
  },
  {
   "cell_type": "code",
   "execution_count": 27,
   "id": "76216366",
   "metadata": {},
   "outputs": [],
   "source": [
    "#Define hyperparameters\n",
    "\n",
    "IMG_SIZE = 224\n",
    "BATCH_SIZE = 64\n",
    "EPOCHS = 100\n",
    "\n",
    "MAX_SEQ_LENGTH = 20\n",
    "NUM_FEATURES = 2048"
   ]
  },
  {
   "cell_type": "code",
   "execution_count": 28,
   "id": "11befa62",
   "metadata": {},
   "outputs": [
    {
     "name": "stdout",
     "output_type": "stream",
     "text": [
      "Frame features in train set: (70, 20, 2048)\n",
      "Frame masks in train set: (70, 20)\n",
      "train_labels in train set: (70, 1)\n",
      "test_labels in train set: (10, 1)\n"
     ]
    }
   ],
   "source": [
    "def prepare_all_videos(df, root_dir):\n",
    "    num_samples = len(df)\n",
    "    video_paths = df[\"video_name\"].values.tolist()\n",
    "    \n",
    "    ##take all classlabels from train_df column named 'tag' and store in labels\n",
    "    labels = df[\"tag\"].values\n",
    "    \n",
    "    #convert classlabels to label encoding\n",
    "    labels = label_processor(labels[..., None]).numpy()\n",
    "\n",
    "    # `frame_masks` and `frame_features` are what we will feed to our sequence model.\n",
    "    # `frame_masks` will contain a bunch of booleans denoting if a timestep is\n",
    "    # masked with padding or not.\n",
    "    frame_masks = np.zeros(shape=(num_samples, MAX_SEQ_LENGTH), dtype=\"bool\") # 145,20\n",
    "    frame_features = np.zeros(shape=(num_samples, MAX_SEQ_LENGTH, NUM_FEATURES), dtype=\"float32\") #145,20,2048\n",
    "\n",
    "    # For each video.\n",
    "    for idx, path in enumerate(video_paths):\n",
    "        # Gather all its frames and add a batch dimension.\n",
    "        frames = load_video(os.path.join(root_dir, path))\n",
    "        frames = frames[None, ...]\n",
    "\n",
    "        # Initialize placeholders to store the masks and features of the current video.\n",
    "        temp_frame_mask = np.zeros(shape=(1, MAX_SEQ_LENGTH,), dtype=\"bool\")\n",
    "        temp_frame_features = np.zeros(\n",
    "            shape=(1, MAX_SEQ_LENGTH, NUM_FEATURES), dtype=\"float32\"\n",
    "        )\n",
    "\n",
    "        # Extract features from the frames of the current video.\n",
    "        for i, batch in enumerate(frames):\n",
    "            video_length = batch.shape[0]\n",
    "            length = min(MAX_SEQ_LENGTH, video_length)\n",
    "            for j in range(length):\n",
    "                temp_frame_features[i, j, :] = feature_extractor.predict(\n",
    "                    batch[None, j, :]\n",
    "                )\n",
    "            temp_frame_mask[i, :length] = 1  # 1 = not masked, 0 = masked\n",
    "\n",
    "        frame_features[idx,] = temp_frame_features.squeeze()\n",
    "        frame_masks[idx,] = temp_frame_mask.squeeze()\n",
    "\n",
    "    return (frame_features, frame_masks), labels\n",
    "\n",
    "\n",
    "train_data, train_labels = prepare_all_videos(train_df, \"train\")\n",
    "test_data, test_labels = prepare_all_videos(test_df, \"test\")\n",
    "\n",
    "print(f\"Frame features in train set: {train_data[0].shape}\")\n",
    "print(f\"Frame masks in train set: {train_data[1].shape}\")\n",
    "\n",
    "\n",
    "\n",
    "print(f\"train_labels in train set: {train_labels.shape}\")\n",
    "\n",
    "print(f\"test_labels in train set: {test_labels.shape}\")\n",
    "\n",
    "# MAX_SEQ_LENGTH = 20, NUM_FEATURES = 2048. We have defined this above under hyper parameters"
   ]
  },
  {
   "cell_type": "markdown",
   "id": "407e0827",
   "metadata": {},
   "source": [
    "# The sequence model\n",
    "Now, we can feed this data to a sequence model consisting of recurrent layers like GRU."
   ]
  },
  {
   "cell_type": "code",
   "execution_count": 29,
   "id": "7382f3c1",
   "metadata": {},
   "outputs": [
    {
     "name": "stdout",
     "output_type": "stream",
     "text": [
      "Epoch 1/30\n",
      "1/2 [==============>...............] - ETA: 7s - loss: 0.6931 - accuracy: 0.6250\n",
      "Epoch 1: val_loss improved from inf to 0.69513, saving model to ./tmp\\video_classifier\n",
      "2/2 [==============================] - 10s 3s/step - loss: 0.6931 - accuracy: 0.6122 - val_loss: 0.6951 - val_accuracy: 0.0000e+00\n",
      "Epoch 2/30\n",
      "1/2 [==============>...............] - ETA: 0s - loss: 0.6928 - accuracy: 0.5938\n",
      "Epoch 2: val_loss did not improve from 0.69513\n",
      "2/2 [==============================] - 0s 57ms/step - loss: 0.6926 - accuracy: 0.6122 - val_loss: 0.6971 - val_accuracy: 0.0000e+00\n",
      "Epoch 3/30\n",
      "1/2 [==============>...............] - ETA: 0s - loss: 0.6924 - accuracy: 0.5938\n",
      "Epoch 3: val_loss did not improve from 0.69513\n",
      "2/2 [==============================] - 0s 66ms/step - loss: 0.6922 - accuracy: 0.6122 - val_loss: 0.6991 - val_accuracy: 0.0000e+00\n",
      "Epoch 4/30\n",
      "1/2 [==============>...............] - ETA: 0s - loss: 0.6913 - accuracy: 0.6562\n",
      "Epoch 4: val_loss did not improve from 0.69513\n",
      "2/2 [==============================] - 0s 57ms/step - loss: 0.6918 - accuracy: 0.6122 - val_loss: 0.7010 - val_accuracy: 0.0000e+00\n",
      "Epoch 5/30\n",
      "1/2 [==============>...............] - ETA: 0s - loss: 0.6917 - accuracy: 0.5938\n",
      "Epoch 5: val_loss did not improve from 0.69513\n",
      "2/2 [==============================] - 0s 59ms/step - loss: 0.6913 - accuracy: 0.6122 - val_loss: 0.7029 - val_accuracy: 0.0000e+00\n",
      "Epoch 6/30\n",
      "1/2 [==============>...............] - ETA: 0s - loss: 0.6908 - accuracy: 0.6250\n",
      "Epoch 6: val_loss did not improve from 0.69513\n",
      "2/2 [==============================] - 0s 59ms/step - loss: 0.6910 - accuracy: 0.6122 - val_loss: 0.7048 - val_accuracy: 0.0000e+00\n",
      "Epoch 7/30\n",
      "1/2 [==============>...............] - ETA: 0s - loss: 0.6903 - accuracy: 0.6250\n",
      "Epoch 7: val_loss did not improve from 0.69513\n",
      "2/2 [==============================] - 0s 59ms/step - loss: 0.6906 - accuracy: 0.6122 - val_loss: 0.7067 - val_accuracy: 0.0000e+00\n",
      "Epoch 8/30\n",
      "1/2 [==============>...............] - ETA: 0s - loss: 0.6907 - accuracy: 0.5938\n",
      "Epoch 8: val_loss did not improve from 0.69513\n",
      "2/2 [==============================] - 0s 62ms/step - loss: 0.6901 - accuracy: 0.6122 - val_loss: 0.7086 - val_accuracy: 0.0000e+00\n",
      "Epoch 9/30\n",
      "1/2 [==============>...............] - ETA: 0s - loss: 0.6894 - accuracy: 0.6250\n",
      "Epoch 9: val_loss did not improve from 0.69513\n",
      "2/2 [==============================] - 0s 57ms/step - loss: 0.6898 - accuracy: 0.6122 - val_loss: 0.7105 - val_accuracy: 0.0000e+00\n",
      "Epoch 10/30\n",
      "1/2 [==============>...............] - ETA: 0s - loss: 0.6911 - accuracy: 0.5625\n",
      "Epoch 10: val_loss did not improve from 0.69513\n",
      "2/2 [==============================] - 0s 55ms/step - loss: 0.6893 - accuracy: 0.6122 - val_loss: 0.7124 - val_accuracy: 0.0000e+00\n",
      "Epoch 11/30\n",
      "1/2 [==============>...............] - ETA: 0s - loss: 0.6897 - accuracy: 0.5938\n",
      "Epoch 11: val_loss did not improve from 0.69513\n",
      "2/2 [==============================] - 0s 56ms/step - loss: 0.6889 - accuracy: 0.6122 - val_loss: 0.7144 - val_accuracy: 0.0000e+00\n",
      "Epoch 12/30\n",
      "1/2 [==============>...............] - ETA: 0s - loss: 0.6907 - accuracy: 0.5625\n",
      "Epoch 12: val_loss did not improve from 0.69513\n",
      "2/2 [==============================] - 0s 55ms/step - loss: 0.6885 - accuracy: 0.6122 - val_loss: 0.7163 - val_accuracy: 0.0000e+00\n",
      "Epoch 13/30\n",
      "1/2 [==============>...............] - ETA: 0s - loss: 0.6934 - accuracy: 0.5000\n",
      "Epoch 13: val_loss did not improve from 0.69513\n",
      "2/2 [==============================] - 0s 55ms/step - loss: 0.6881 - accuracy: 0.6122 - val_loss: 0.7182 - val_accuracy: 0.0000e+00\n",
      "Epoch 14/30\n",
      "1/2 [==============>...............] - ETA: 0s - loss: 0.6857 - accuracy: 0.6562\n",
      "Epoch 14: val_loss did not improve from 0.69513\n",
      "2/2 [==============================] - 0s 66ms/step - loss: 0.6879 - accuracy: 0.6122 - val_loss: 0.7201 - val_accuracy: 0.0000e+00\n",
      "Epoch 15/30\n",
      "1/2 [==============>...............] - ETA: 0s - loss: 0.6902 - accuracy: 0.5625\n",
      "Epoch 15: val_loss did not improve from 0.69513\n",
      "2/2 [==============================] - 0s 59ms/step - loss: 0.6874 - accuracy: 0.6122 - val_loss: 0.7219 - val_accuracy: 0.0000e+00\n",
      "Epoch 16/30\n",
      "1/2 [==============>...............] - ETA: 0s - loss: 0.6829 - accuracy: 0.6875\n",
      "Epoch 16: val_loss did not improve from 0.69513\n",
      "2/2 [==============================] - 0s 72ms/step - loss: 0.6872 - accuracy: 0.6122 - val_loss: 0.7237 - val_accuracy: 0.0000e+00\n",
      "Epoch 17/30\n",
      "1/2 [==============>...............] - ETA: 0s - loss: 0.6785 - accuracy: 0.7500\n",
      "Epoch 17: val_loss did not improve from 0.69513\n",
      "2/2 [==============================] - 0s 57ms/step - loss: 0.6869 - accuracy: 0.6122 - val_loss: 0.7253 - val_accuracy: 0.0000e+00\n",
      "Epoch 18/30\n",
      "1/2 [==============>...............] - ETA: 0s - loss: 0.6837 - accuracy: 0.6562\n",
      "Epoch 18: val_loss did not improve from 0.69513\n",
      "2/2 [==============================] - 0s 58ms/step - loss: 0.6865 - accuracy: 0.6122 - val_loss: 0.7267 - val_accuracy: 0.0000e+00\n",
      "Epoch 19/30\n",
      "1/2 [==============>...............] - ETA: 0s - loss: 0.6896 - accuracy: 0.5625\n",
      "Epoch 19: val_loss did not improve from 0.69513\n",
      "2/2 [==============================] - 0s 60ms/step - loss: 0.6862 - accuracy: 0.6122 - val_loss: 0.7281 - val_accuracy: 0.0000e+00\n",
      "Epoch 20/30\n",
      "1/2 [==============>...............] - ETA: 0s - loss: 0.6873 - accuracy: 0.5938\n",
      "Epoch 20: val_loss did not improve from 0.69513\n",
      "2/2 [==============================] - 0s 56ms/step - loss: 0.6860 - accuracy: 0.6122 - val_loss: 0.7296 - val_accuracy: 0.0000e+00\n",
      "Epoch 21/30\n",
      "1/2 [==============>...............] - ETA: 0s - loss: 0.6848 - accuracy: 0.6250\n",
      "Epoch 21: val_loss did not improve from 0.69513\n",
      "2/2 [==============================] - 0s 75ms/step - loss: 0.6857 - accuracy: 0.6122 - val_loss: 0.7311 - val_accuracy: 0.0000e+00\n",
      "Epoch 22/30\n",
      "1/2 [==============>...............] - ETA: 0s - loss: 0.6799 - accuracy: 0.6875\n",
      "Epoch 22: val_loss did not improve from 0.69513\n",
      "2/2 [==============================] - 0s 55ms/step - loss: 0.6855 - accuracy: 0.6122 - val_loss: 0.7326 - val_accuracy: 0.0000e+00\n",
      "Epoch 23/30\n",
      "1/2 [==============>...............] - ETA: 0s - loss: 0.6842 - accuracy: 0.6250\n",
      "Epoch 23: val_loss did not improve from 0.69513\n",
      "2/2 [==============================] - 0s 61ms/step - loss: 0.6852 - accuracy: 0.6122 - val_loss: 0.7340 - val_accuracy: 0.0000e+00\n",
      "Epoch 24/30\n",
      "1/2 [==============>...............] - ETA: 0s - loss: 0.6940 - accuracy: 0.5000\n",
      "Epoch 24: val_loss did not improve from 0.69513\n",
      "2/2 [==============================] - 0s 60ms/step - loss: 0.6848 - accuracy: 0.6122 - val_loss: 0.7354 - val_accuracy: 0.0000e+00\n",
      "Epoch 25/30\n",
      "1/2 [==============>...............] - ETA: 0s - loss: 0.6862 - accuracy: 0.5938\n",
      "Epoch 25: val_loss did not improve from 0.69513\n",
      "2/2 [==============================] - 0s 68ms/step - loss: 0.6846 - accuracy: 0.6122 - val_loss: 0.7370 - val_accuracy: 0.0000e+00\n",
      "Epoch 26/30\n",
      "1/2 [==============>...............] - ETA: 0s - loss: 0.6887 - accuracy: 0.5625\n",
      "Epoch 26: val_loss did not improve from 0.69513\n",
      "2/2 [==============================] - 0s 65ms/step - loss: 0.6843 - accuracy: 0.6122 - val_loss: 0.7385 - val_accuracy: 0.0000e+00\n",
      "Epoch 27/30\n",
      "1/2 [==============>...............] - ETA: 0s - loss: 0.6914 - accuracy: 0.5312\n",
      "Epoch 27: val_loss did not improve from 0.69513\n",
      "2/2 [==============================] - 0s 69ms/step - loss: 0.6840 - accuracy: 0.6122 - val_loss: 0.7401 - val_accuracy: 0.0000e+00\n",
      "Epoch 28/30\n",
      "1/2 [==============>...............] - ETA: 0s - loss: 0.6799 - accuracy: 0.6562\n",
      "Epoch 28: val_loss did not improve from 0.69513\n",
      "2/2 [==============================] - 0s 60ms/step - loss: 0.6839 - accuracy: 0.6122 - val_loss: 0.7418 - val_accuracy: 0.0000e+00\n",
      "Epoch 29/30\n",
      "1/2 [==============>...............] - ETA: 0s - loss: 0.6913 - accuracy: 0.5312\n",
      "Epoch 29: val_loss did not improve from 0.69513\n",
      "2/2 [==============================] - 0s 63ms/step - loss: 0.6835 - accuracy: 0.6122 - val_loss: 0.7433 - val_accuracy: 0.0000e+00\n",
      "Epoch 30/30\n",
      "1/2 [==============>...............] - ETA: 0s - loss: 0.6852 - accuracy: 0.5938\n",
      "Epoch 30: val_loss did not improve from 0.69513\n",
      "2/2 [==============================] - 0s 64ms/step - loss: 0.6833 - accuracy: 0.6122 - val_loss: 0.7450 - val_accuracy: 0.0000e+00\n"
     ]
    },
    {
     "name": "stdout",
     "output_type": "stream",
     "text": [
      "1/1 [==============================] - 0s 32ms/step - loss: 0.6931 - accuracy: 0.5000\n",
      "Test accuracy: 50.0%\n"
     ]
    }
   ],
   "source": [
    "# Utility for our sequence model.\n",
    "def get_sequence_model():\n",
    "    class_vocab = label_processor.get_vocabulary()\n",
    "\n",
    "    frame_features_input = keras.Input((MAX_SEQ_LENGTH, NUM_FEATURES))\n",
    "    mask_input = keras.Input((MAX_SEQ_LENGTH,), dtype=\"bool\")\n",
    "\n",
    "    # Refer to the following tutorial to understand the significance of using `mask`:\n",
    "    # https://keras.io/api/layers/recurrent_layers/gru/\n",
    "    x = keras.layers.GRU(16, return_sequences=True)(frame_features_input, mask=mask_input)\n",
    "    x = keras.layers.GRU(8)(x)\n",
    "    x = keras.layers.Dropout(0.4)(x)\n",
    "    x = keras.layers.Dense(8, activation=\"relu\")(x)\n",
    "    output = keras.layers.Dense(len(class_vocab), activation=\"softmax\")(x)\n",
    "\n",
    "    rnn_model = keras.Model([frame_features_input, mask_input], output)\n",
    "\n",
    "    rnn_model.compile(\n",
    "        loss=\"sparse_categorical_crossentropy\", optimizer=\"adam\", metrics=[\"accuracy\"]\n",
    "    )\n",
    "    return rnn_model\n",
    "\n",
    "EPOCHS = 30\n",
    "# Utility for running experiments.\n",
    "def run_experiment():\n",
    "    filepath = \"./tmp/video_classifier\"\n",
    "    checkpoint = keras.callbacks.ModelCheckpoint(\n",
    "        filepath, save_weights_only=True, save_best_only=True, verbose=1\n",
    "    )\n",
    "\n",
    "    seq_model = get_sequence_model()\n",
    "    history = seq_model.fit(\n",
    "        [train_data[0], train_data[1]],\n",
    "        train_labels,\n",
    "        validation_split=0.3,\n",
    "        epochs=EPOCHS,\n",
    "        callbacks=[checkpoint],\n",
    "    )\n",
    "\n",
    "    seq_model.load_weights(filepath)\n",
    "    _, accuracy = seq_model.evaluate([test_data[0], test_data[1]], test_labels)\n",
    "    print(f\"Test accuracy: {round(accuracy * 100, 2)}%\")\n",
    "\n",
    "    return history, seq_model\n",
    "\n",
    "\n",
    "_, sequence_model = run_experiment()"
   ]
  },
  {
   "cell_type": "markdown",
   "id": "6f1f1681",
   "metadata": {},
   "source": [
    "# Inference"
   ]
  },
  {
   "cell_type": "code",
   "execution_count": 30,
   "id": "846a5956",
   "metadata": {},
   "outputs": [
    {
     "name": "stdout",
     "output_type": "stream",
     "text": [
      "Test video path: dataset/test/not_fallen/notfall (39).mp4\n",
      "1/1 [==============================] - 2s 2s/step\n",
      "  fallen: 50.10%\n",
      "  not_fallen: 49.90%\n"
     ]
    }
   ],
   "source": [
    "def prepare_single_video(frames):\n",
    "    frames = frames[None, ...]\n",
    "    frame_mask = np.zeros(shape=(1, MAX_SEQ_LENGTH,), dtype=\"bool\")\n",
    "    frame_features = np.zeros(shape=(1, MAX_SEQ_LENGTH, NUM_FEATURES), dtype=\"float32\")\n",
    "\n",
    "    for i, batch in enumerate(frames):\n",
    "        video_length = batch.shape[0]\n",
    "        length = min(MAX_SEQ_LENGTH, video_length)\n",
    "        for j in range(length):\n",
    "            frame_features[i, j, :] = feature_extractor.predict(batch[None, j, :])\n",
    "        frame_mask[i, :length] = 1  # 1 = not masked, 0 = masked\n",
    "\n",
    "    return frame_features, frame_mask\n",
    "\n",
    "\n",
    "def sequence_prediction(path):\n",
    "    class_vocab = label_processor.get_vocabulary()\n",
    "\n",
    "    frames = load_video(os.path.join(\"test\", path))\n",
    "    frame_features, frame_mask = prepare_single_video(frames)\n",
    "    probabilities = sequence_model.predict([frame_features, frame_mask])[0]\n",
    "\n",
    "    for i in np.argsort(probabilities)[::-1]:\n",
    "        print(f\"  {class_vocab[i]}: {probabilities[i] * 100:5.2f}%\")\n",
    "    return frames\n",
    "\n",
    "test_video = np.random.choice(test_df[\"video_name\"].values.tolist())\n",
    "print(f\"Test video path: {test_video}\")\n",
    "\n",
    "test_frames = sequence_prediction(test_video)\n"
   ]
  },
  {
   "cell_type": "code",
   "execution_count": 31,
   "id": "6309d87b",
   "metadata": {},
   "outputs": [
    {
     "data": {
      "text/html": [
       "\n",
       "    <video alt=\"test\" width=\"520\" height=\"440\" controls>\n",
       "        <source src=\"dataset/test/dancing/dancing (23.mp4\" type=\"video/mp4\" style=\"height:300px;width:300px\">\n",
       "    </video>\n"
      ],
      "text/plain": [
       "<IPython.core.display.HTML object>"
      ]
     },
     "execution_count": 31,
     "metadata": {},
     "output_type": "execute_result"
    }
   ],
   "source": [
    "from IPython.display import HTML\n",
    "\n",
    "HTML(\"\"\"\n",
    "    <video alt=\"test\" width=\"520\" height=\"440\" controls>\n",
    "        <source src=\"dataset/test/dancing/dancing (23.mp4\" type=\"video/mp4\" style=\"height:300px;width:300px\">\n",
    "    </video>\n",
    "\"\"\")\n"
   ]
  },
  {
   "cell_type": "code",
   "execution_count": null,
   "id": "6150d7e2",
   "metadata": {},
   "outputs": [],
   "source": []
  },
  {
   "cell_type": "code",
   "execution_count": null,
   "id": "0b16e337",
   "metadata": {},
   "outputs": [],
   "source": []
  },
  {
   "cell_type": "code",
   "execution_count": null,
   "id": "ad15f322",
   "metadata": {},
   "outputs": [],
   "source": []
  }
 ],
 "metadata": {
  "kernelspec": {
   "display_name": "Python 3",
   "language": "python",
   "name": "python3"
  },
  "language_info": {
   "codemirror_mode": {
    "name": "ipython",
    "version": 3
   },
   "file_extension": ".py",
   "mimetype": "text/x-python",
   "name": "python",
   "nbconvert_exporter": "python",
   "pygments_lexer": "ipython3",
   "version": "3.8.8"
  }
 },
 "nbformat": 4,
 "nbformat_minor": 5
}
